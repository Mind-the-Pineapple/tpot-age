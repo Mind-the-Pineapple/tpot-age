{
 "cells": [
  {
   "cell_type": "code",
   "execution_count": null,
   "metadata": {},
   "outputs": [],
   "source": [
    "# This is need to work with plotly in a notebook\n",
    "import plotly.offline as py\n",
    "py.init_notebook_mode(connected=False)\n",
    "import plotly.graph_objs as go\n",
    "\n",
    "import numpy as np\n",
    "import pandas as pd\n",
    "import os\n",
    "import joblib"
   ]
  },
  {
   "cell_type": "code",
   "execution_count": null,
   "metadata": {},
   "outputs": [],
   "source": [
    "root_path = '/Users/jessica/NaN/BayOptPy/tpot/Output/random_seed/100_generations/random_seed_020'\n",
    "results_path = 'tpot_BANC_freesurf_vanilla_combi_100gen.dump'\n",
    "results = joblib.load(os.path.join(root_path, results_path))"
   ]
  },
  {
   "cell_type": "code",
   "execution_count": null,
   "metadata": {},
   "outputs": [],
   "source": [
    "def print_predecessor_generation(results, curr_generation):\n",
    "    '''\n",
    "    Print the predecessor's generation for all the models in a specific generation\n",
    "    '''\n",
    "    data_df = pd.DataFrame()\n",
    "    for key in results['evaluated_individuals'][curr_generation].keys():\n",
    "        predecessor = ''.join(results['evaluated_individuals'][curr_generation][key]['predecessor'])\n",
    "        print(predecessor)\n",
    "        for generation in range(curr_generation-1, -1, -1):\n",
    "            if predecessor in results['evaluated_individuals'][generation].keys():\n",
    "                mae = abs(results['evaluated_individuals'][generation][predecessor]['internal_cv_score'])\n",
    "                print('Found predecessor in %d generation' %generation)\n",
    "                print('')\n",
    "                data_df = data_df.append({'model': key, 'predecessor': predecessor, 'generation': generation, 'mae': mae},\n",
    "                                 ignore_index=True)\n",
    "\n",
    "    # Check if there is any predecessor that is repeated in this generation\n",
    "    print('List of repeated models')\n",
    "    repeated_predecessors = set([x for x in list(data_df['predecessor']) if list(data_df['predecessor']).count(x)>1])\n",
    "    print(repeated_predecessors)\n",
    "    print('There are %d repeated predecessors' %len(repeated_predecessors))\n",
    "    return data_df"
   ]
  },
  {
   "cell_type": "code",
   "execution_count": null,
   "metadata": {},
   "outputs": [],
   "source": [
    "curr_gen = 50\n",
    "data_df = print_predecessor_generation(results, curr_gen)"
   ]
  },
  {
   "cell_type": "markdown",
   "metadata": {},
   "source": [
    "Reproduce the static plot in plotly"
   ]
  },
  {
   "cell_type": "code",
   "execution_count": null,
   "metadata": {},
   "outputs": [],
   "source": [
    "trace1 = go.Scatter(\n",
    "        y = data_df['mae'],\n",
    "        mode='markers',\n",
    "        text=data_df['generation'],\n",
    "        hoverinfo = 'text',\n",
    "        marker=dict(\n",
    "            size=16,\n",
    "            color = data_df['generation'], #set color equal to a variable\n",
    "            colorscale='Viridis',\n",
    "            showscale=True\n",
    "    )\n",
    ")\n",
    "data_comp = [trace1]\n",
    "\n",
    "# Configure title\n",
    "layout_comp = go.Layout(\n",
    "    title='MAE at 50 Generation',\n",
    "    yaxis=dict(title='MAE'),\n",
    "    xaxis=dict(title='Models')\n",
    ")\n",
    "\n",
    "fig_comp = go.Figure(data=data_comp, layout=layout_comp)\n",
    "py.iplot(fig_comp, filename='scatter')"
   ]
  },
  {
   "cell_type": "code",
   "execution_count": null,
   "metadata": {},
   "outputs": [],
   "source": []
  }
 ],
 "metadata": {
  "kernelspec": {
   "display_name": "bop-env",
   "language": "python",
   "name": "bop-env"
  },
  "language_info": {
   "codemirror_mode": {
    "name": "ipython",
    "version": 3
   },
   "file_extension": ".py",
   "mimetype": "text/x-python",
   "name": "python",
   "nbconvert_exporter": "python",
   "pygments_lexer": "ipython3",
   "version": "3.6.4"
  }
 },
 "nbformat": 4,
 "nbformat_minor": 2
}
